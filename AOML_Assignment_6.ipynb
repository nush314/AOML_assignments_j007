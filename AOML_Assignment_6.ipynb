{
  "nbformat": 4,
  "nbformat_minor": 0,
  "metadata": {
    "colab": {
      "provenance": []
    },
    "kernelspec": {
      "name": "python3",
      "display_name": "Python 3"
    },
    "language_info": {
      "name": "python"
    }
  },
  "cells": [
    {
      "cell_type": "code",
      "execution_count": 1,
      "metadata": {
        "colab": {
          "base_uri": "https://localhost:8080/",
          "height": 626
        },
        "id": "aFuBYyezPd_6",
        "outputId": "e6e5f0ea-efa9-48b2-a782-a3b772b2ea86"
      },
      "outputs": [
        {
          "output_type": "stream",
          "name": "stdout",
          "text": [
            "Downloading data from https://storage.googleapis.com/tensorflow/tf-keras-datasets/train-labels-idx1-ubyte.gz\n",
            "\u001b[1m29515/29515\u001b[0m \u001b[32m━━━━━━━━━━━━━━━━━━━━\u001b[0m\u001b[37m\u001b[0m \u001b[1m0s\u001b[0m 0us/step\n",
            "Downloading data from https://storage.googleapis.com/tensorflow/tf-keras-datasets/train-images-idx3-ubyte.gz\n",
            "\u001b[1m26421880/26421880\u001b[0m \u001b[32m━━━━━━━━━━━━━━━━━━━━\u001b[0m\u001b[37m\u001b[0m \u001b[1m1s\u001b[0m 0us/step\n",
            "Downloading data from https://storage.googleapis.com/tensorflow/tf-keras-datasets/t10k-labels-idx1-ubyte.gz\n",
            "\u001b[1m5148/5148\u001b[0m \u001b[32m━━━━━━━━━━━━━━━━━━━━\u001b[0m\u001b[37m\u001b[0m \u001b[1m0s\u001b[0m 0us/step\n",
            "Downloading data from https://storage.googleapis.com/tensorflow/tf-keras-datasets/t10k-images-idx3-ubyte.gz\n",
            "\u001b[1m4422102/4422102\u001b[0m \u001b[32m━━━━━━━━━━━━━━━━━━━━\u001b[0m\u001b[37m\u001b[0m \u001b[1m0s\u001b[0m 0us/step\n",
            "Training Data Shape: (60000, 28, 28), Test Data Shape: (10000, 28, 28)\n",
            "Unique Labels: [0 1 2 3 4 5 6 7 8 9]\n"
          ]
        },
        {
          "output_type": "display_data",
          "data": {
            "text/plain": [
              "<Figure size 640x480 with 1 Axes>"
            ],
            "image/png": "[encoded data removed]"
          },
          "metadata": {}
        }
      ],
      "source": [
        "import numpy as np\n",
        "import matplotlib.pyplot as plt\n",
        "from tensorflow.keras.datasets import fashion_mnist\n",
        "\n",
        "# Load the dataset\n",
        "(X_train, y_train), (X_test, y_test) = fashion_mnist.load_data()\n",
        "\n",
        "# Print dataset shape\n",
        "print(f\"Training Data Shape: {X_train.shape}, Test Data Shape: {X_test.shape}\")\n",
        "print(f\"Unique Labels: {np.unique(y_train)}\")\n",
        "\n",
        "# Display an example image\n",
        "plt.imshow(X_train[0], cmap=\"gray\")\n",
        "plt.title(f\"Label: {y_train[0]}\")\n",
        "plt.show()\n"
      ]
    },
    {
      "cell_type": "code",
      "source": [
        "# Flatten the images from 28x28 to 1D (784 features)\n",
        "X_train = X_train.reshape(X_train.shape[0], -1)\n",
        "X_test = X_test.reshape(X_test.shape[0], -1)\n",
        "\n",
        "# Normalize pixel values to range [0,1]\n",
        "X_train = X_train / 255.0\n",
        "X_test = X_test / 255.0\n",
        "\n",
        "print(f\"New Training Shape: {X_train.shape}, New Test Shape: {X_test.shape}\")\n"
      ],
      "metadata": {
        "colab": {
          "base_uri": "https://localhost:8080/"
        },
        "id": "n8rE4071QX46",
        "outputId": "07f03fb9-f735-4b82-aa58-970c167cf982"
      },
      "execution_count": 2,
      "outputs": [
        {
          "output_type": "stream",
          "name": "stdout",
          "text": [
            "New Training Shape: (60000, 784), New Test Shape: (10000, 784)\n"
          ]
        }
      ]
    },
    {
      "cell_type": "code",
      "source": [
        "from sklearn.svm import SVC\n",
        "from sklearn.model_selection import GridSearchCV\n",
        "\n",
        "# Define parameter grid for C values\n",
        "param_grid = {'C': [0.1, 1, 10, 100]}\n",
        "\n",
        "# Create an SVM classifier with linear kernel\n",
        "svm_linear = SVC(kernel='linear')\n",
        "\n",
        "# Perform Grid Search with 3-fold cross-validation\n",
        "grid_search = GridSearchCV(svm_linear, param_grid, cv=3, scoring='accuracy', n_jobs=-1)\n",
        "grid_search.fit(X_train[:10000], y_train[:10000])  # Use a subset for faster training\n",
        "\n",
        "# Print the best parameter and accuracy\n",
        "print(f\"Best C: {grid_search.best_params_['C']}\")\n",
        "print(f\"Best Training Accuracy: {grid_search.best_score_:.4f}\")\n"
      ],
      "metadata": {
        "colab": {
          "base_uri": "https://localhost:8080/"
        },
        "id": "pgC9PtY8R_Gl",
        "outputId": "fdafff13-326b-4c94-8381-68c1891149fd"
      },
      "execution_count": 3,
      "outputs": [
        {
          "output_type": "stream",
          "name": "stdout",
          "text": [
            "Best C: 0.1\n",
            "Best Training Accuracy: 0.8446\n"
          ]
        }
      ]
    },
    {
      "cell_type": "code",
      "source": [
        "# Define parameter grid for degree and C values\n",
        "param_grid = {'C': [0.1, 1, 10], 'degree': [2, 3, 4]}\n",
        "\n",
        "# Create an SVM classifier with polynomial kernel\n",
        "svm_poly = SVC(kernel='poly')\n",
        "\n",
        "# Perform Grid Search\n",
        "grid_search_poly = GridSearchCV(svm_poly, param_grid, cv=3, scoring='accuracy', n_jobs=-1)\n",
        "grid_search_poly.fit(X_train[:10000], y_train[:10000])  # Use a subset for speed\n",
        "\n",
        "# Print the best parameters\n",
        "print(f\"Best C: {grid_search_poly.best_params_['C']}, Best Degree: {grid_search_poly.best_params_['degree']}\")\n",
        "print(f\"Best Training Accuracy: {grid_search_poly.best_score_:.4f}\")\n"
      ],
      "metadata": {
        "colab": {
          "base_uri": "https://localhost:8080/"
        },
        "id": "QsPR1Hn5SDV5",
        "outputId": "8383db9e-3827-4a37-8afe-1f0aa43e576c"
      },
      "execution_count": 4,
      "outputs": [
        {
          "output_type": "stream",
          "name": "stdout",
          "text": [
            "Best C: 10, Best Degree: 2\n",
            "Best Training Accuracy: 0.8505\n"
          ]
        }
      ]
    },
    {
      "cell_type": "code",
      "source": [
        "# Define parameter grid for C and gamma values\n",
        "param_grid_rbf = {'C': [0.1, 1, 10], 'gamma': [0.001, 0.01, 0.1]}\n",
        "\n",
        "# Create an SVM classifier with RBF kernel\n",
        "svm_rbf = SVC(kernel='rbf')\n",
        "\n",
        "# Perform Grid Search\n",
        "grid_search_rbf = GridSearchCV(svm_rbf, param_grid_rbf, cv=3, scoring='accuracy', n_jobs=-1)\n",
        "grid_search_rbf.fit(X_train[:10000], y_train[:10000])  # Use a subset for faster computation\n",
        "\n",
        "# Print the best parameters\n",
        "print(f\"Best C: {grid_search_rbf.best_params_['C']}, Best Gamma: {grid_search_rbf.best_params_['gamma']}\")\n",
        "print(f\"Best Training Accuracy: {grid_search_rbf.best_score_:.4f}\")\n",
        "\n",
        "# Evaluate the best models on the test set\n",
        "best_linear = grid_search.best_estimator_\n",
        "best_poly = grid_search_poly.best_estimator_\n",
        "best_rbf = grid_search_rbf.best_estimator_\n",
        "\n",
        "linear_acc = best_linear.score(X_test, y_test)\n",
        "poly_acc = best_poly.score(X_test, y_test)\n",
        "rbf_acc = best_rbf.score(X_test, y_test)\n",
        "\n",
        "print(f\"Test Accuracy - Linear: {linear_acc:.4f}, Polynomial: {poly_acc:.4f}, RBF: {rbf_acc:.4f}\")\n"
      ],
      "metadata": {
        "id": "g9uJbZxfSoms",
        "colab": {
          "base_uri": "https://localhost:8080/"
        },
        "outputId": "3baa4568-e5fa-4ae6-e6e8-af99bb15b6ab"
      },
      "execution_count": 5,
      "outputs": [
        {
          "output_type": "stream",
          "name": "stdout",
          "text": [
            "Best C: 10, Best Gamma: 0.01\n",
            "Best Training Accuracy: 0.8701\n",
            "Test Accuracy - Linear: 0.8387, Polynomial: 0.8515, RBF: 0.8669\n"
          ]
        }
      ]
    },
    {
      "cell_type": "code",
      "source": [
        "# Extended hyperparameter tuning for RBF kernel\n",
        "param_grid_rbf_fine = {\n",
        "    'C': [5, 10, 50, 100],\n",
        "    'gamma': [0.005, 0.01, 0.05]\n",
        "}\n",
        "\n",
        "grid_search_rbf_fine = GridSearchCV(SVC(kernel='rbf'), param_grid_rbf_fine, cv=3, scoring='accuracy', n_jobs=-1)\n",
        "grid_search_rbf_fine.fit(X_train[:10000], y_train[:10000])\n",
        "\n",
        "# Print best parameters\n",
        "print(f\"Fine-Tuned Best C: {grid_search_rbf_fine.best_params_['C']}, Best Gamma: {grid_search_rbf_fine.best_params_['gamma']}\")\n",
        "print(f\"Fine-Tuned Best Training Accuracy: {grid_search_rbf_fine.best_score_:.4f}\")\n",
        "\n",
        "# Evaluate on the test set\n",
        "best_rbf_fine = grid_search_rbf_fine.best_estimator_\n",
        "fine_tuned_rbf_acc = best_rbf_fine.score(X_test, y_test)\n",
        "print(f\"Fine-Tuned Test Accuracy (RBF): {fine_tuned_rbf_acc:.4f}\")\n"
      ],
      "metadata": {
        "colab": {
          "base_uri": "https://localhost:8080/"
        },
        "id": "8nafm9qm4rR2",
        "outputId": "c592a5be-52b5-408f-8c82-18c46d63b7d9"
      },
      "execution_count": 6,
      "outputs": [
        {
          "output_type": "stream",
          "name": "stdout",
          "text": [
            "Fine-Tuned Best C: 5, Best Gamma: 0.01\n",
            "Fine-Tuned Best Training Accuracy: 0.8710\n",
            "Fine-Tuned Test Accuracy (RBF): 0.8661\n"
          ]
        }
      ]
    },
    {
      "cell_type": "code",
      "source": [
        "from sklearn.decomposition import PCA\n",
        "\n",
        "# Reduce dimensions to 100 principal components\n",
        "pca = PCA(n_components=100)\n",
        "X_train_pca = pca.fit_transform(X_train)\n",
        "X_test_pca = pca.transform(X_test)\n",
        "\n",
        "# Train RBF SVM on reduced features\n",
        "svm_rbf_pca = SVC(kernel='rbf', C=10, gamma=0.01)\n",
        "svm_rbf_pca.fit(X_train_pca, y_train)\n",
        "\n",
        "# Evaluate on test data\n",
        "pca_rbf_acc = svm_rbf_pca.score(X_test_pca, y_test)\n",
        "print(f\"Test Accuracy with PCA (100 components) - RBF SVM: {pca_rbf_acc:.4f}\")\n"
      ],
      "metadata": {
        "colab": {
          "base_uri": "https://localhost:8080/"
        },
        "id": "FoFrGydP74Sq",
        "outputId": "f5f1bf6b-5f3a-497f-9ee9-720f2fd256b8"
      },
      "execution_count": 7,
      "outputs": [
        {
          "output_type": "stream",
          "name": "stdout",
          "text": [
            "Test Accuracy with PCA (100 components) - RBF SVM: 0.8950\n"
          ]
        }
      ]
    },
    {
      "cell_type": "code",
      "source": [],
      "metadata": {
        "id": "Dm7L8Bfo-Ztu"
      },
      "execution_count": null,
      "outputs": []
    }
  ]
}